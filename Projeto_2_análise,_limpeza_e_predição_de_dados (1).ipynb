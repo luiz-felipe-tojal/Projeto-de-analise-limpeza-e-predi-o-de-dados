{
  "nbformat": 4,
  "nbformat_minor": 0,
  "metadata": {
    "colab": {
      "name": "Projeto 2: análise, limpeza e predição de dados",
      "provenance": [],
      "toc_visible": true
    },
    "kernelspec": {
      "name": "python3",
      "display_name": "Python 3"
    },
    "language_info": {
      "name": "python"
    }
  },
  "cells": [
    {
      "cell_type": "markdown",
      "metadata": {
        "id": "K2Bks0iELgIm"
      },
      "source": [
        "# Estrutura dos dados"
      ]
    },
    {
      "cell_type": "code",
      "metadata": {
        "id": "JwHaUFggI2Li"
      },
      "source": [
        "# importar as bibliotecas\n",
        "import numpy as np\n",
        "import pandas as pd\n",
        "import matplotlib.pyplot as plt\n",
        "import seaborn as sns"
      ],
      "execution_count": 1,
      "outputs": []
    },
    {
      "cell_type": "code",
      "metadata": {
        "id": "VyLZAb9uJDvV"
      },
      "source": [
        "# Coloque o caminho do arquivo csv para rodar o programa\n",
        "\n",
        "caminho_arquivo_test = '/content/drive/MyDrive/google/Colab Notebooks/turing/projeto 2/Cópia de test.csv'\n",
        "df_test = pd.read_csv(caminho_arquivo_test)\n",
        "\n",
        "caminho_arquivo_train = '/content/drive/MyDrive/google/Colab Notebooks/turing/projeto 2/Cópia de train.csv'\n",
        "df = pd.read_csv(caminho_arquivo_train)\n"
      ],
      "execution_count": 2,
      "outputs": []
    },
    {
      "cell_type": "markdown",
      "metadata": {
        "id": "GJ7_15ZRNcO1"
      },
      "source": [
        "Para iniciar o projeto, devemos realizar uma breve visualização do nosso dataframe, a fim de nos familizarizarmos com os dados a serem estudados"
      ]
    },
    {
      "cell_type": "code",
      "metadata": {
        "colab": {
          "base_uri": "https://localhost:8080/",
          "height": 261
        },
        "id": "8DK0b20XLykO",
        "outputId": "7323a58b-f53c-44be-c77e-40c1af30c1bf"
      },
      "source": [
        "df.head()"
      ],
      "execution_count": 3,
      "outputs": [
        {
          "output_type": "execute_result",
          "data": {
            "text/html": [
              "<div>\n",
              "<style scoped>\n",
              "    .dataframe tbody tr th:only-of-type {\n",
              "        vertical-align: middle;\n",
              "    }\n",
              "\n",
              "    .dataframe tbody tr th {\n",
              "        vertical-align: top;\n",
              "    }\n",
              "\n",
              "    .dataframe thead th {\n",
              "        text-align: right;\n",
              "    }\n",
              "</style>\n",
              "<table border=\"1\" class=\"dataframe\">\n",
              "  <thead>\n",
              "    <tr style=\"text-align: right;\">\n",
              "      <th></th>\n",
              "      <th>enrollee_id</th>\n",
              "      <th>city</th>\n",
              "      <th>city_development_index</th>\n",
              "      <th>gender</th>\n",
              "      <th>relevent_experience</th>\n",
              "      <th>enrolled_university</th>\n",
              "      <th>education_level</th>\n",
              "      <th>major_discipline</th>\n",
              "      <th>experience</th>\n",
              "      <th>company_size</th>\n",
              "      <th>company_type</th>\n",
              "      <th>last_new_job</th>\n",
              "      <th>training_hours</th>\n",
              "      <th>target</th>\n",
              "    </tr>\n",
              "  </thead>\n",
              "  <tbody>\n",
              "    <tr>\n",
              "      <th>0</th>\n",
              "      <td>8949</td>\n",
              "      <td>city_103</td>\n",
              "      <td>0.920</td>\n",
              "      <td>Male</td>\n",
              "      <td>Has relevent experience</td>\n",
              "      <td>no_enrollment</td>\n",
              "      <td>Graduate</td>\n",
              "      <td>STEM</td>\n",
              "      <td>&gt;20</td>\n",
              "      <td>NaN</td>\n",
              "      <td>NaN</td>\n",
              "      <td>1</td>\n",
              "      <td>36</td>\n",
              "      <td>1.0</td>\n",
              "    </tr>\n",
              "    <tr>\n",
              "      <th>1</th>\n",
              "      <td>29725</td>\n",
              "      <td>city_40</td>\n",
              "      <td>0.776</td>\n",
              "      <td>Male</td>\n",
              "      <td>No relevent experience</td>\n",
              "      <td>no_enrollment</td>\n",
              "      <td>Graduate</td>\n",
              "      <td>STEM</td>\n",
              "      <td>15</td>\n",
              "      <td>50-99</td>\n",
              "      <td>Pvt Ltd</td>\n",
              "      <td>&gt;4</td>\n",
              "      <td>47</td>\n",
              "      <td>0.0</td>\n",
              "    </tr>\n",
              "    <tr>\n",
              "      <th>2</th>\n",
              "      <td>11561</td>\n",
              "      <td>city_21</td>\n",
              "      <td>0.624</td>\n",
              "      <td>NaN</td>\n",
              "      <td>No relevent experience</td>\n",
              "      <td>Full time course</td>\n",
              "      <td>Graduate</td>\n",
              "      <td>STEM</td>\n",
              "      <td>5</td>\n",
              "      <td>NaN</td>\n",
              "      <td>NaN</td>\n",
              "      <td>never</td>\n",
              "      <td>83</td>\n",
              "      <td>0.0</td>\n",
              "    </tr>\n",
              "    <tr>\n",
              "      <th>3</th>\n",
              "      <td>33241</td>\n",
              "      <td>city_115</td>\n",
              "      <td>0.789</td>\n",
              "      <td>NaN</td>\n",
              "      <td>No relevent experience</td>\n",
              "      <td>NaN</td>\n",
              "      <td>Graduate</td>\n",
              "      <td>Business Degree</td>\n",
              "      <td>&lt;1</td>\n",
              "      <td>NaN</td>\n",
              "      <td>Pvt Ltd</td>\n",
              "      <td>never</td>\n",
              "      <td>52</td>\n",
              "      <td>1.0</td>\n",
              "    </tr>\n",
              "    <tr>\n",
              "      <th>4</th>\n",
              "      <td>666</td>\n",
              "      <td>city_162</td>\n",
              "      <td>0.767</td>\n",
              "      <td>Male</td>\n",
              "      <td>Has relevent experience</td>\n",
              "      <td>no_enrollment</td>\n",
              "      <td>Masters</td>\n",
              "      <td>STEM</td>\n",
              "      <td>&gt;20</td>\n",
              "      <td>50-99</td>\n",
              "      <td>Funded Startup</td>\n",
              "      <td>4</td>\n",
              "      <td>8</td>\n",
              "      <td>0.0</td>\n",
              "    </tr>\n",
              "  </tbody>\n",
              "</table>\n",
              "</div>"
            ],
            "text/plain": [
              "   enrollee_id      city  ...  training_hours target\n",
              "0         8949  city_103  ...              36    1.0\n",
              "1        29725   city_40  ...              47    0.0\n",
              "2        11561   city_21  ...              83    0.0\n",
              "3        33241  city_115  ...              52    1.0\n",
              "4          666  city_162  ...               8    0.0\n",
              "\n",
              "[5 rows x 14 columns]"
            ]
          },
          "metadata": {},
          "execution_count": 3
        }
      ]
    },
    {
      "cell_type": "code",
      "metadata": {
        "colab": {
          "base_uri": "https://localhost:8080/"
        },
        "id": "Ktf92NNCL1bN",
        "outputId": "828f7c34-9ef9-44c4-95bb-2247322835ce"
      },
      "source": [
        "df.info()"
      ],
      "execution_count": 4,
      "outputs": [
        {
          "output_type": "stream",
          "name": "stdout",
          "text": [
            "<class 'pandas.core.frame.DataFrame'>\n",
            "RangeIndex: 19158 entries, 0 to 19157\n",
            "Data columns (total 14 columns):\n",
            " #   Column                  Non-Null Count  Dtype  \n",
            "---  ------                  --------------  -----  \n",
            " 0   enrollee_id             19158 non-null  int64  \n",
            " 1   city                    19158 non-null  object \n",
            " 2   city_development_index  19158 non-null  float64\n",
            " 3   gender                  14650 non-null  object \n",
            " 4   relevent_experience     19158 non-null  object \n",
            " 5   enrolled_university     18772 non-null  object \n",
            " 6   education_level         18698 non-null  object \n",
            " 7   major_discipline        16345 non-null  object \n",
            " 8   experience              19093 non-null  object \n",
            " 9   company_size            13220 non-null  object \n",
            " 10  company_type            13018 non-null  object \n",
            " 11  last_new_job            18735 non-null  object \n",
            " 12  training_hours          19158 non-null  int64  \n",
            " 13  target                  19158 non-null  float64\n",
            "dtypes: float64(2), int64(2), object(10)\n",
            "memory usage: 2.0+ MB\n"
          ]
        }
      ]
    },
    {
      "cell_type": "markdown",
      "metadata": {
        "id": "zYtqH8R2N08Q"
      },
      "source": [
        "As informações obtidas já nos mostram alguns problemas que teremos de lidar durante a limpeza dos dados, o que será realizado coluna por coluna adiante. \n",
        "Esses problemas são:\n",
        "\n",
        "*   Dados faltantes nas colunas 'gender', 'enrolled_university', 'education_level', 'major_discipline', 'experience', 'company_size', 'company_type' e 'last_new_job'\n",
        "*   Predomínio de dados categóricos no dataframe, que em alguns casos podem ser substituídos por dados numéricos\n",
        "\n"
      ]
    },
    {
      "cell_type": "code",
      "metadata": {
        "colab": {
          "base_uri": "https://localhost:8080/",
          "height": 69
        },
        "id": "We7z_Pr8MJmM",
        "outputId": "910f8d29-57a2-4d86-9649-71adadfc9cf7"
      },
      "source": [
        "# gera um dataframe apenas com fileiras repetidas\n",
        "df[df.duplicated()]"
      ],
      "execution_count": 5,
      "outputs": [
        {
          "output_type": "execute_result",
          "data": {
            "text/html": [
              "<div>\n",
              "<style scoped>\n",
              "    .dataframe tbody tr th:only-of-type {\n",
              "        vertical-align: middle;\n",
              "    }\n",
              "\n",
              "    .dataframe tbody tr th {\n",
              "        vertical-align: top;\n",
              "    }\n",
              "\n",
              "    .dataframe thead th {\n",
              "        text-align: right;\n",
              "    }\n",
              "</style>\n",
              "<table border=\"1\" class=\"dataframe\">\n",
              "  <thead>\n",
              "    <tr style=\"text-align: right;\">\n",
              "      <th></th>\n",
              "      <th>enrollee_id</th>\n",
              "      <th>city</th>\n",
              "      <th>city_development_index</th>\n",
              "      <th>gender</th>\n",
              "      <th>relevent_experience</th>\n",
              "      <th>enrolled_university</th>\n",
              "      <th>education_level</th>\n",
              "      <th>major_discipline</th>\n",
              "      <th>experience</th>\n",
              "      <th>company_size</th>\n",
              "      <th>company_type</th>\n",
              "      <th>last_new_job</th>\n",
              "      <th>training_hours</th>\n",
              "      <th>target</th>\n",
              "    </tr>\n",
              "  </thead>\n",
              "  <tbody>\n",
              "  </tbody>\n",
              "</table>\n",
              "</div>"
            ],
            "text/plain": [
              "Empty DataFrame\n",
              "Columns: [enrollee_id, city, city_development_index, gender, relevent_experience, enrolled_university, education_level, major_discipline, experience, company_size, company_type, last_new_job, training_hours, target]\n",
              "Index: []"
            ]
          },
          "metadata": {},
          "execution_count": 5
        }
      ]
    },
    {
      "cell_type": "markdown",
      "metadata": {
        "id": "7OS0YyHjO3Xa"
      },
      "source": [
        "Antes de iniciar a limpeza propriamente, é necessário procurar por duplicatas no dataframe. O método utilizado acima nos mostra que não teremos problemas com duplicatas."
      ]
    },
    {
      "cell_type": "markdown",
      "metadata": {
        "id": "-INA3pjnz2jr"
      },
      "source": [
        "# Limpeza"
      ]
    },
    {
      "cell_type": "markdown",
      "metadata": {
        "id": "8kBIa2gC7gxO"
      },
      "source": [
        "Agora iniciaremos a limpeza dos nossos dados. Para isso, analisaremos brevemente coluna por coluna nas seções seguintes."
      ]
    },
    {
      "cell_type": "markdown",
      "metadata": {
        "id": "4tnGFOQSMfn6"
      },
      "source": [
        "## Limpeza da coluna 'city'"
      ]
    },
    {
      "cell_type": "markdown",
      "metadata": {
        "id": "TucGihunPR6-"
      },
      "source": [
        "Nesta etapa da limpeza, os métodos usados abaixo nos mostram que a coluna 'city' já está limpa."
      ]
    },
    {
      "cell_type": "code",
      "metadata": {
        "colab": {
          "base_uri": "https://localhost:8080/"
        },
        "id": "vqkeKWfmMnfC",
        "outputId": "012c39c8-139c-4a09-dc26-f8c57663280d"
      },
      "source": [
        "df.city.describe()"
      ],
      "execution_count": 6,
      "outputs": [
        {
          "output_type": "execute_result",
          "data": {
            "text/plain": [
              "count        19158\n",
              "unique         123\n",
              "top       city_103\n",
              "freq          4355\n",
              "Name: city, dtype: object"
            ]
          },
          "metadata": {},
          "execution_count": 6
        }
      ]
    },
    {
      "cell_type": "code",
      "metadata": {
        "colab": {
          "base_uri": "https://localhost:8080/"
        },
        "id": "uoosBBFENOQA",
        "outputId": "039606f0-56c2-42cb-9278-e62b83d571e7"
      },
      "source": [
        "df.city.unique()"
      ],
      "execution_count": 7,
      "outputs": [
        {
          "output_type": "execute_result",
          "data": {
            "text/plain": [
              "array(['city_103', 'city_40', 'city_21', 'city_115', 'city_162',\n",
              "       'city_176', 'city_160', 'city_46', 'city_61', 'city_114',\n",
              "       'city_13', 'city_159', 'city_102', 'city_67', 'city_100',\n",
              "       'city_16', 'city_71', 'city_104', 'city_64', 'city_101', 'city_83',\n",
              "       'city_105', 'city_73', 'city_75', 'city_41', 'city_11', 'city_93',\n",
              "       'city_90', 'city_36', 'city_20', 'city_57', 'city_152', 'city_19',\n",
              "       'city_65', 'city_74', 'city_173', 'city_136', 'city_98', 'city_97',\n",
              "       'city_50', 'city_138', 'city_82', 'city_157', 'city_89',\n",
              "       'city_150', 'city_70', 'city_175', 'city_94', 'city_28', 'city_59',\n",
              "       'city_165', 'city_145', 'city_142', 'city_26', 'city_12',\n",
              "       'city_37', 'city_43', 'city_116', 'city_23', 'city_99', 'city_149',\n",
              "       'city_10', 'city_45', 'city_80', 'city_128', 'city_158',\n",
              "       'city_123', 'city_7', 'city_72', 'city_106', 'city_143', 'city_78',\n",
              "       'city_109', 'city_24', 'city_134', 'city_48', 'city_144',\n",
              "       'city_91', 'city_146', 'city_133', 'city_126', 'city_118',\n",
              "       'city_9', 'city_167', 'city_27', 'city_84', 'city_54', 'city_39',\n",
              "       'city_79', 'city_76', 'city_77', 'city_81', 'city_131', 'city_44',\n",
              "       'city_117', 'city_155', 'city_33', 'city_141', 'city_127',\n",
              "       'city_62', 'city_53', 'city_25', 'city_2', 'city_69', 'city_120',\n",
              "       'city_111', 'city_30', 'city_1', 'city_140', 'city_179', 'city_55',\n",
              "       'city_14', 'city_42', 'city_107', 'city_18', 'city_139',\n",
              "       'city_180', 'city_166', 'city_121', 'city_129', 'city_8',\n",
              "       'city_31', 'city_171'], dtype=object)"
            ]
          },
          "metadata": {},
          "execution_count": 7
        }
      ]
    },
    {
      "cell_type": "markdown",
      "metadata": {
        "id": "P_NGSSY1MfvD"
      },
      "source": [
        "## Limpeza da coluna city_development_index"
      ]
    },
    {
      "cell_type": "markdown",
      "metadata": {
        "id": "Z0zabb49Pej2"
      },
      "source": [
        "Assim como a coluna anterior, a coluna 'city_development_index', não tem problemas"
      ]
    },
    {
      "cell_type": "code",
      "metadata": {
        "colab": {
          "base_uri": "https://localhost:8080/"
        },
        "id": "uzm-60NrOU94",
        "outputId": "6e7db135-9b21-4089-b749-2f5f15244afd"
      },
      "source": [
        "# descreve a coluna city_development_index do df \n",
        "df.city_development_index.describe()"
      ],
      "execution_count": 8,
      "outputs": [
        {
          "output_type": "execute_result",
          "data": {
            "text/plain": [
              "count    19158.000000\n",
              "mean         0.828848\n",
              "std          0.123362\n",
              "min          0.448000\n",
              "25%          0.740000\n",
              "50%          0.903000\n",
              "75%          0.920000\n",
              "max          0.949000\n",
              "Name: city_development_index, dtype: float64"
            ]
          },
          "metadata": {},
          "execution_count": 8
        }
      ]
    },
    {
      "cell_type": "code",
      "metadata": {
        "colab": {
          "base_uri": "https://localhost:8080/"
        },
        "id": "5kKHoBFdOlM-",
        "outputId": "96ab7e6b-792a-472d-ab7a-fe9aa36f6136"
      },
      "source": [
        "# verifica existência de valores incoerentes\n",
        "df.city_development_index.unique()"
      ],
      "execution_count": 9,
      "outputs": [
        {
          "output_type": "execute_result",
          "data": {
            "text/plain": [
              "array([0.92 , 0.776, 0.624, 0.789, 0.767, 0.764, 0.762, 0.913, 0.926,\n",
              "       0.827, 0.843, 0.804, 0.855, 0.887, 0.91 , 0.884, 0.924, 0.666,\n",
              "       0.558, 0.923, 0.794, 0.754, 0.939, 0.55 , 0.865, 0.698, 0.893,\n",
              "       0.796, 0.866, 0.682, 0.802, 0.579, 0.878, 0.897, 0.949, 0.925,\n",
              "       0.896, 0.836, 0.693, 0.769, 0.775, 0.903, 0.555, 0.727, 0.64 ,\n",
              "       0.516, 0.743, 0.899, 0.915, 0.689, 0.895, 0.89 , 0.847, 0.527,\n",
              "       0.766, 0.738, 0.647, 0.795, 0.74 , 0.701, 0.493, 0.84 , 0.691,\n",
              "       0.735, 0.742, 0.479, 0.722, 0.921, 0.848, 0.856, 0.898, 0.83 ,\n",
              "       0.73 , 0.68 , 0.725, 0.556, 0.448, 0.763, 0.745, 0.645, 0.788,\n",
              "       0.78 , 0.512, 0.739, 0.563, 0.518, 0.824, 0.487, 0.649, 0.781,\n",
              "       0.625, 0.807, 0.664])"
            ]
          },
          "metadata": {},
          "execution_count": 9
        }
      ]
    },
    {
      "cell_type": "markdown",
      "metadata": {
        "id": "EgIDON5PR-uc"
      },
      "source": [
        "## Limpeza da coluna 'gender'"
      ]
    },
    {
      "cell_type": "markdown",
      "metadata": {
        "id": "C_7hkINMPvz3"
      },
      "source": [
        "Embora a coluna 'gender' não tenha valores incorentes, ela apresenta o problema dos dados faltante. Aqui decidimos por manter as fileiras com nan a fim de evitar a perda de aproximadamente 4500 fileiras. Também optou-se por não inserir a moda (Male) nos dados faltantes, pois isso atrapalharia a análise."
      ]
    },
    {
      "cell_type": "code",
      "metadata": {
        "colab": {
          "base_uri": "https://localhost:8080/"
        },
        "id": "gY_UPQ4USFgU",
        "outputId": "ffef20de-be6e-4c2d-d08e-45f6d10d9635"
      },
      "source": [
        "df.gender.describe()"
      ],
      "execution_count": 10,
      "outputs": [
        {
          "output_type": "execute_result",
          "data": {
            "text/plain": [
              "count     14650\n",
              "unique        3\n",
              "top        Male\n",
              "freq      13221\n",
              "Name: gender, dtype: object"
            ]
          },
          "metadata": {},
          "execution_count": 10
        }
      ]
    },
    {
      "cell_type": "code",
      "metadata": {
        "colab": {
          "base_uri": "https://localhost:8080/"
        },
        "id": "_2gGBBSYSPIT",
        "outputId": "30bdb436-d24b-4642-f79d-4d4eddc60367"
      },
      "source": [
        "df.gender.unique()"
      ],
      "execution_count": 11,
      "outputs": [
        {
          "output_type": "execute_result",
          "data": {
            "text/plain": [
              "array(['Male', nan, 'Female', 'Other'], dtype=object)"
            ]
          },
          "metadata": {},
          "execution_count": 11
        }
      ]
    },
    {
      "cell_type": "code",
      "metadata": {
        "colab": {
          "base_uri": "https://localhost:8080/"
        },
        "id": "1SUeG9F-Sdms",
        "outputId": "966f55d5-96c5-4112-bc00-3ce0e682795e"
      },
      "source": [
        "df.gender.value_counts()"
      ],
      "execution_count": 12,
      "outputs": [
        {
          "output_type": "execute_result",
          "data": {
            "text/plain": [
              "Male      13221\n",
              "Female     1238\n",
              "Other       191\n",
              "Name: gender, dtype: int64"
            ]
          },
          "metadata": {},
          "execution_count": 12
        }
      ]
    },
    {
      "cell_type": "markdown",
      "metadata": {
        "id": "8hSspgZUTMEx"
      },
      "source": [
        "## Limpeza da coluna relevent_experience "
      ]
    },
    {
      "cell_type": "markdown",
      "metadata": {
        "id": "PG5Per_lQQl1"
      },
      "source": [
        "Sem problemas aqui."
      ]
    },
    {
      "cell_type": "code",
      "metadata": {
        "colab": {
          "base_uri": "https://localhost:8080/"
        },
        "id": "F__k8S3hTbA5",
        "outputId": "b37d9af3-4208-457c-fcbe-e9bba6db3641"
      },
      "source": [
        "df.relevent_experience.describe()"
      ],
      "execution_count": 13,
      "outputs": [
        {
          "output_type": "execute_result",
          "data": {
            "text/plain": [
              "count                       19158\n",
              "unique                          2\n",
              "top       Has relevent experience\n",
              "freq                        13792\n",
              "Name: relevent_experience, dtype: object"
            ]
          },
          "metadata": {},
          "execution_count": 13
        }
      ]
    },
    {
      "cell_type": "code",
      "metadata": {
        "colab": {
          "base_uri": "https://localhost:8080/"
        },
        "id": "InhTj7qPTrOj",
        "outputId": "b8492498-045d-439b-f8a7-746270642dc1"
      },
      "source": [
        "df.relevent_experience.unique()"
      ],
      "execution_count": 14,
      "outputs": [
        {
          "output_type": "execute_result",
          "data": {
            "text/plain": [
              "array(['Has relevent experience', 'No relevent experience'], dtype=object)"
            ]
          },
          "metadata": {},
          "execution_count": 14
        }
      ]
    },
    {
      "cell_type": "markdown",
      "metadata": {
        "id": "m-Z7z_DBTzvw"
      },
      "source": [
        "## Limpeza da coluna enrolled_university"
      ]
    },
    {
      "cell_type": "markdown",
      "metadata": {
        "id": "Ye2xhjnIQVE1"
      },
      "source": [
        "Diante da existência de dados faltantes, decidimos inserir a moda (no_enrollment) onde não havia informações. Como não faltavam tantos dados, a análise não deve ser tão prejudicada."
      ]
    },
    {
      "cell_type": "code",
      "metadata": {
        "colab": {
          "base_uri": "https://localhost:8080/"
        },
        "id": "_rzqgHVpT8Qw",
        "outputId": "f994e7f7-7def-4a57-e641-64b0424bda9b"
      },
      "source": [
        "df.enrolled_university.describe()"
      ],
      "execution_count": 15,
      "outputs": [
        {
          "output_type": "execute_result",
          "data": {
            "text/plain": [
              "count             18772\n",
              "unique                3\n",
              "top       no_enrollment\n",
              "freq              13817\n",
              "Name: enrolled_university, dtype: object"
            ]
          },
          "metadata": {},
          "execution_count": 15
        }
      ]
    },
    {
      "cell_type": "code",
      "metadata": {
        "colab": {
          "base_uri": "https://localhost:8080/"
        },
        "id": "UkxuVnpdUD7Q",
        "outputId": "aa788b4b-a801-4794-d1e6-014c42acd475"
      },
      "source": [
        "df.enrolled_university.unique()"
      ],
      "execution_count": 16,
      "outputs": [
        {
          "output_type": "execute_result",
          "data": {
            "text/plain": [
              "array(['no_enrollment', 'Full time course', nan, 'Part time course'],\n",
              "      dtype=object)"
            ]
          },
          "metadata": {},
          "execution_count": 16
        }
      ]
    },
    {
      "cell_type": "code",
      "metadata": {
        "id": "dsFK5f9TUJWH"
      },
      "source": [
        "df.enrolled_university.fillna('no_enrollment', inplace=True)"
      ],
      "execution_count": 17,
      "outputs": []
    },
    {
      "cell_type": "markdown",
      "metadata": {
        "id": "6HrpGaXcU9YG"
      },
      "source": [
        "## Limpeza coluna education_level"
      ]
    },
    {
      "cell_type": "markdown",
      "metadata": {
        "id": "a0-Hzh9-QnZp"
      },
      "source": [
        "Encaramos os dados faltantes com a mesma lógica da coluna anterior."
      ]
    },
    {
      "cell_type": "code",
      "metadata": {
        "colab": {
          "base_uri": "https://localhost:8080/"
        },
        "id": "LUh6ylCXVGr9",
        "outputId": "c6fb0c8e-8b2b-404c-f05c-64e846375364"
      },
      "source": [
        "df.education_level.describe()"
      ],
      "execution_count": 18,
      "outputs": [
        {
          "output_type": "execute_result",
          "data": {
            "text/plain": [
              "count        18698\n",
              "unique           5\n",
              "top       Graduate\n",
              "freq         11598\n",
              "Name: education_level, dtype: object"
            ]
          },
          "metadata": {},
          "execution_count": 18
        }
      ]
    },
    {
      "cell_type": "code",
      "metadata": {
        "colab": {
          "base_uri": "https://localhost:8080/"
        },
        "id": "Uxs3k3YPVSz_",
        "outputId": "e045cba2-a8fc-4962-b1ee-2e0c9c9f1324"
      },
      "source": [
        "df.education_level.unique()"
      ],
      "execution_count": 19,
      "outputs": [
        {
          "output_type": "execute_result",
          "data": {
            "text/plain": [
              "array(['Graduate', 'Masters', 'High School', nan, 'Phd', 'Primary School'],\n",
              "      dtype=object)"
            ]
          },
          "metadata": {},
          "execution_count": 19
        }
      ]
    },
    {
      "cell_type": "code",
      "metadata": {
        "id": "zZU6x85VVb4N"
      },
      "source": [
        "df.education_level.fillna('Graduate', inplace=True)"
      ],
      "execution_count": 20,
      "outputs": []
    },
    {
      "cell_type": "markdown",
      "metadata": {
        "id": "81gV7A58VhCi"
      },
      "source": [
        "## Limpeza coluna major_discipline"
      ]
    },
    {
      "cell_type": "markdown",
      "metadata": {
        "id": "ua8btUezQuZQ"
      },
      "source": [
        "À semelhança das colunas anteriores, inserimos a moda nos dados faltantes"
      ]
    },
    {
      "cell_type": "code",
      "metadata": {
        "colab": {
          "base_uri": "https://localhost:8080/"
        },
        "id": "CxoR-5fRVqNV",
        "outputId": "e373f377-48c5-4199-8b0d-25ef99d4e015"
      },
      "source": [
        "df.major_discipline.describe()"
      ],
      "execution_count": 21,
      "outputs": [
        {
          "output_type": "execute_result",
          "data": {
            "text/plain": [
              "count     16345\n",
              "unique        6\n",
              "top        STEM\n",
              "freq      14492\n",
              "Name: major_discipline, dtype: object"
            ]
          },
          "metadata": {},
          "execution_count": 21
        }
      ]
    },
    {
      "cell_type": "code",
      "metadata": {
        "colab": {
          "base_uri": "https://localhost:8080/"
        },
        "id": "qCVJuT6nVw_s",
        "outputId": "7347a96e-c7ee-420c-8a17-4c11576525ef"
      },
      "source": [
        "df.major_discipline.unique()"
      ],
      "execution_count": 22,
      "outputs": [
        {
          "output_type": "execute_result",
          "data": {
            "text/plain": [
              "array(['STEM', 'Business Degree', nan, 'Arts', 'Humanities', 'No Major',\n",
              "       'Other'], dtype=object)"
            ]
          },
          "metadata": {},
          "execution_count": 22
        }
      ]
    },
    {
      "cell_type": "code",
      "metadata": {
        "id": "JMLiZHjnV6Bb"
      },
      "source": [
        "df.major_discipline.fillna('STEM', inplace=True)"
      ],
      "execution_count": 23,
      "outputs": []
    },
    {
      "cell_type": "markdown",
      "metadata": {
        "id": "HeyVqfUMV75z"
      },
      "source": [
        "## Limpeza coluna experience              "
      ]
    },
    {
      "cell_type": "markdown",
      "metadata": {
        "id": "2Fv4K1skQ3Oh"
      },
      "source": [
        "Esta coluna permitiu novamente o uso da moda nos dados faltantes."
      ]
    },
    {
      "cell_type": "code",
      "metadata": {
        "colab": {
          "base_uri": "https://localhost:8080/"
        },
        "id": "aH_yt0ATV_oM",
        "outputId": "460c17ec-6fa1-41da-9d22-9ecbf1ec758a"
      },
      "source": [
        "df.experience.describe()"
      ],
      "execution_count": 24,
      "outputs": [
        {
          "output_type": "execute_result",
          "data": {
            "text/plain": [
              "count     19093\n",
              "unique       22\n",
              "top         >20\n",
              "freq       3286\n",
              "Name: experience, dtype: object"
            ]
          },
          "metadata": {},
          "execution_count": 24
        }
      ]
    },
    {
      "cell_type": "code",
      "metadata": {
        "colab": {
          "base_uri": "https://localhost:8080/"
        },
        "id": "oS6nfzOjWYIF",
        "outputId": "fc19d772-1399-49eb-d259-16b3b6775733"
      },
      "source": [
        "df.experience.unique()"
      ],
      "execution_count": 25,
      "outputs": [
        {
          "output_type": "execute_result",
          "data": {
            "text/plain": [
              "array(['>20', '15', '5', '<1', '11', '13', '7', '17', '2', '16', '1', '4',\n",
              "       '10', '14', '18', '19', '12', '3', '6', '9', '8', '20', nan],\n",
              "      dtype=object)"
            ]
          },
          "metadata": {},
          "execution_count": 25
        }
      ]
    },
    {
      "cell_type": "code",
      "metadata": {
        "id": "Avp2gO6kqlXl"
      },
      "source": [
        "df.experience.fillna('>20', inplace=True)"
      ],
      "execution_count": 26,
      "outputs": []
    },
    {
      "cell_type": "markdown",
      "metadata": {
        "id": "lW4JGASz7DR7"
      },
      "source": [
        "## Limpeza coluna company_size"
      ]
    },
    {
      "cell_type": "markdown",
      "metadata": {
        "id": "42X0001dQ-4L"
      },
      "source": [
        "Nesta coluna, a limpeza foi usada para padronizar os valores usados. Para isso, substituímos o valor 10/49 por 10-49 e o valor 10000+ por >10000"
      ]
    },
    {
      "cell_type": "code",
      "metadata": {
        "colab": {
          "base_uri": "https://localhost:8080/"
        },
        "id": "w7YFYTxE7QuL",
        "outputId": "baf49107-3520-48cd-f2d7-2671dd42a39d"
      },
      "source": [
        "df.company_size.describe()"
      ],
      "execution_count": 27,
      "outputs": [
        {
          "output_type": "execute_result",
          "data": {
            "text/plain": [
              "count     13220\n",
              "unique        8\n",
              "top       50-99\n",
              "freq       3083\n",
              "Name: company_size, dtype: object"
            ]
          },
          "metadata": {},
          "execution_count": 27
        }
      ]
    },
    {
      "cell_type": "code",
      "metadata": {
        "colab": {
          "base_uri": "https://localhost:8080/"
        },
        "id": "9ClDTX-z8EAi",
        "outputId": "397640f8-2de5-469b-bb6f-a6f0a8976b5f"
      },
      "source": [
        "print(df.company_size.unique())"
      ],
      "execution_count": 28,
      "outputs": [
        {
          "output_type": "stream",
          "name": "stdout",
          "text": [
            "[nan '50-99' '<10' '10000+' '5000-9999' '1000-4999' '10/49' '100-500'\n",
            " '500-999']\n"
          ]
        }
      ]
    },
    {
      "cell_type": "code",
      "metadata": {
        "id": "CJ60XDxn8Zsw"
      },
      "source": [
        "df.replace(['10/49', '10000+'], ['10-49', '>10000'], inplace=True)"
      ],
      "execution_count": 29,
      "outputs": []
    },
    {
      "cell_type": "code",
      "metadata": {
        "colab": {
          "base_uri": "https://localhost:8080/"
        },
        "id": "AEYvU3kH9ZV-",
        "outputId": "e5e8244c-7059-4cec-946d-784418be30f4"
      },
      "source": [
        "print(df.company_size.unique())"
      ],
      "execution_count": 30,
      "outputs": [
        {
          "output_type": "stream",
          "name": "stdout",
          "text": [
            "[nan '50-99' '<10' '>10000' '5000-9999' '1000-4999' '10-49' '100-500'\n",
            " '500-999']\n"
          ]
        }
      ]
    },
    {
      "cell_type": "markdown",
      "metadata": {
        "id": "L9G7p33P9sGt"
      },
      "source": [
        "## Limpeza coluna company_type"
      ]
    },
    {
      "cell_type": "code",
      "metadata": {
        "colab": {
          "base_uri": "https://localhost:8080/"
        },
        "id": "UOETz7t49y_t",
        "outputId": "6b2d7ee4-a1a0-4ca9-e6f2-719883b7d43b"
      },
      "source": [
        "df.company_type.describe()"
      ],
      "execution_count": 31,
      "outputs": [
        {
          "output_type": "execute_result",
          "data": {
            "text/plain": [
              "count       13018\n",
              "unique          6\n",
              "top       Pvt Ltd\n",
              "freq         9817\n",
              "Name: company_type, dtype: object"
            ]
          },
          "metadata": {},
          "execution_count": 31
        }
      ]
    },
    {
      "cell_type": "code",
      "metadata": {
        "colab": {
          "base_uri": "https://localhost:8080/"
        },
        "id": "j0jL5Tu19-Dk",
        "outputId": "6376da6f-ca5b-4ceb-c1c6-c4b9ff52db76"
      },
      "source": [
        "print(df.company_type.unique())"
      ],
      "execution_count": 32,
      "outputs": [
        {
          "output_type": "stream",
          "name": "stdout",
          "text": [
            "[nan 'Pvt Ltd' 'Funded Startup' 'Early Stage Startup' 'Other'\n",
            " 'Public Sector' 'NGO']\n"
          ]
        }
      ]
    },
    {
      "cell_type": "code",
      "metadata": {
        "id": "P8hcPQ0p-JwD"
      },
      "source": [
        "df.company_type.fillna('Pvt Ltd', inplace=True)"
      ],
      "execution_count": 33,
      "outputs": []
    },
    {
      "cell_type": "markdown",
      "metadata": {
        "id": "4Qi3n3lg-NK7"
      },
      "source": [
        "## Limpeza seção last_new_job\n",
        "\n",
        "\n"
      ]
    },
    {
      "cell_type": "markdown",
      "metadata": {
        "id": "Oo9s7zReRhlA"
      },
      "source": [
        "Aqui inserimos novamente a moda nos dados faltantes"
      ]
    },
    {
      "cell_type": "code",
      "metadata": {
        "colab": {
          "base_uri": "https://localhost:8080/"
        },
        "id": "Eu5txuBD_QDC",
        "outputId": "56755bb8-4f41-4440-fea9-773bef76fb9b"
      },
      "source": [
        "df.last_new_job.describe()"
      ],
      "execution_count": 34,
      "outputs": [
        {
          "output_type": "execute_result",
          "data": {
            "text/plain": [
              "count     18735\n",
              "unique        6\n",
              "top           1\n",
              "freq       8040\n",
              "Name: last_new_job, dtype: object"
            ]
          },
          "metadata": {},
          "execution_count": 34
        }
      ]
    },
    {
      "cell_type": "code",
      "metadata": {
        "colab": {
          "base_uri": "https://localhost:8080/"
        },
        "id": "49N-AdCJ_V1j",
        "outputId": "a59bd947-cec1-4174-dbce-d272cb04f75a"
      },
      "source": [
        "df.last_new_job.unique()"
      ],
      "execution_count": 35,
      "outputs": [
        {
          "output_type": "execute_result",
          "data": {
            "text/plain": [
              "array(['1', '>4', 'never', '4', '3', '2', nan], dtype=object)"
            ]
          },
          "metadata": {},
          "execution_count": 35
        }
      ]
    },
    {
      "cell_type": "code",
      "metadata": {
        "id": "C1De7NFQALge"
      },
      "source": [
        "df.last_new_job.fillna('1', inplace=True)"
      ],
      "execution_count": 36,
      "outputs": []
    },
    {
      "cell_type": "markdown",
      "metadata": {
        "id": "5xiZumPvAASI"
      },
      "source": [
        "## Limpeza coluna training_hours"
      ]
    },
    {
      "cell_type": "markdown",
      "metadata": {
        "id": "x6qLnaI2Rmyq"
      },
      "source": [
        "A coluna training hours não apresentou problemas"
      ]
    },
    {
      "cell_type": "code",
      "metadata": {
        "colab": {
          "base_uri": "https://localhost:8080/"
        },
        "id": "wT4Fc8yrARkJ",
        "outputId": "210ee0e9-73cd-4cff-8f23-7525db8d1c31"
      },
      "source": [
        "df.training_hours.describe()"
      ],
      "execution_count": 37,
      "outputs": [
        {
          "output_type": "execute_result",
          "data": {
            "text/plain": [
              "count    19158.000000\n",
              "mean        65.366896\n",
              "std         60.058462\n",
              "min          1.000000\n",
              "25%         23.000000\n",
              "50%         47.000000\n",
              "75%         88.000000\n",
              "max        336.000000\n",
              "Name: training_hours, dtype: float64"
            ]
          },
          "metadata": {},
          "execution_count": 37
        }
      ]
    },
    {
      "cell_type": "markdown",
      "metadata": {
        "id": "3Z87l5ZLAo2W"
      },
      "source": [
        "## Limpeza coluna target"
      ]
    },
    {
      "cell_type": "markdown",
      "metadata": {
        "id": "s2yWHjx4RtH7"
      },
      "source": [
        "Novamente sem problemas."
      ]
    },
    {
      "cell_type": "code",
      "metadata": {
        "colab": {
          "base_uri": "https://localhost:8080/"
        },
        "id": "U3t7FwhFBH8p",
        "outputId": "486545ac-435e-4142-ec38-58798ade97fd"
      },
      "source": [
        "df.target.describe()"
      ],
      "execution_count": 38,
      "outputs": [
        {
          "output_type": "execute_result",
          "data": {
            "text/plain": [
              "count    19158.000000\n",
              "mean         0.249348\n",
              "std          0.432647\n",
              "min          0.000000\n",
              "25%          0.000000\n",
              "50%          0.000000\n",
              "75%          0.000000\n",
              "max          1.000000\n",
              "Name: target, dtype: float64"
            ]
          },
          "metadata": {},
          "execution_count": 38
        }
      ]
    },
    {
      "cell_type": "markdown",
      "metadata": {
        "id": "CP5UvDNpnLjq"
      },
      "source": [
        "## Novo df apenas com variaveis numericas"
      ]
    },
    {
      "cell_type": "markdown",
      "metadata": {
        "id": "FP8AWypER0bI"
      },
      "source": [
        "A fim de transformar algumas das variáveis categóricas em varáveis numéricas, criamos um novo dataframe, que será chamado de df_numerico.\n",
        "As variáveis compatíveis com uso de dados numéricos tiveram seus valores categóricos substituídos por números naturais, como 0, 1, 2 ..."
      ]
    },
    {
      "cell_type": "code",
      "metadata": {
        "colab": {
          "base_uri": "https://localhost:8080/"
        },
        "id": "7jou3Mfwnx2U",
        "outputId": "99479cd1-b623-492e-d658-eb00670b8e5a"
      },
      "source": [
        "df.info()"
      ],
      "execution_count": 39,
      "outputs": [
        {
          "output_type": "stream",
          "name": "stdout",
          "text": [
            "<class 'pandas.core.frame.DataFrame'>\n",
            "RangeIndex: 19158 entries, 0 to 19157\n",
            "Data columns (total 14 columns):\n",
            " #   Column                  Non-Null Count  Dtype  \n",
            "---  ------                  --------------  -----  \n",
            " 0   enrollee_id             19158 non-null  int64  \n",
            " 1   city                    19158 non-null  object \n",
            " 2   city_development_index  19158 non-null  float64\n",
            " 3   gender                  14650 non-null  object \n",
            " 4   relevent_experience     19158 non-null  object \n",
            " 5   enrolled_university     19158 non-null  object \n",
            " 6   education_level         19158 non-null  object \n",
            " 7   major_discipline        19158 non-null  object \n",
            " 8   experience              19158 non-null  object \n",
            " 9   company_size            13220 non-null  object \n",
            " 10  company_type            19158 non-null  object \n",
            " 11  last_new_job            19158 non-null  object \n",
            " 12  training_hours          19158 non-null  int64  \n",
            " 13  target                  19158 non-null  float64\n",
            "dtypes: float64(2), int64(2), object(10)\n",
            "memory usage: 2.0+ MB\n"
          ]
        }
      ]
    },
    {
      "cell_type": "code",
      "metadata": {
        "id": "O0o9laAXnWaW"
      },
      "source": [
        "# cria novo dataframe\n",
        "df_numerico = df.copy()\n",
        "\n",
        "# gender\n",
        "df_numerico = df_numerico[df_numerico['gender'] != 'Other']\n",
        "df_numerico.replace(['Male', 'Female'], [0.0, 1.0], inplace=True)\n",
        "\n",
        "\n",
        "# relevent experience\n",
        "df_numerico.replace(['No relevent experience', 'Has relevent experience'], [0, 1], inplace=True)\n",
        "\n",
        "# enrolled_university\n",
        "df_numerico.replace(['no_enrollment', 'Part time course', 'Full time course'], [0 , 1, 2], inplace=True)\n",
        "\n",
        "# education_level\n",
        "df_numerico.replace(['Primary School', 'High School', 'Graduate', 'Masters', 'Phd'], [1, 2, 3, 4, 5], \n",
        "                    inplace=True)\n",
        "\n",
        "# experience\n",
        "df_numerico = df_numerico[df_numerico['experience'] != '>20']\n",
        "df_numerico = df_numerico[df_numerico['experience'] != '<1']\n",
        "df_numerico['experience'] = pd.to_numeric(df_numerico['experience'], downcast=\"float\")\n",
        "\n",
        "# company_size\n",
        "df_numerico = df_numerico[df_numerico['company_size'] != '>10000']\n",
        "df_numerico.replace(['<10', '10-49', '50-99','100-500', '500-999', '1000-4999', '5000-9999'],\n",
        "                    [9, 49, 99, 499, 999, 4999, 9999], \n",
        "                    inplace=True)\n",
        "\n",
        "# last_new_job\n",
        "df_numerico = df_numerico[df_numerico['last_new_job'] != '>4']\n",
        "df_numerico.replace(['never'], [0], inplace=True)\n",
        "df_numerico['last_new_job'] = pd.to_numeric(df_numerico['last_new_job'], downcast=\"float\")\n",
        "\n"
      ],
      "execution_count": 40,
      "outputs": []
    },
    {
      "cell_type": "markdown",
      "metadata": {
        "id": "8BXg7YegSbLS"
      },
      "source": [
        "Note que a coluna 'company_size' teve intervalos substuídos pelo maior numero natural do respectivo intervalo. Embora isso possa prejudicar uma análise futura, essa coluna não se mostrará tão valiosa na estapa analítica."
      ]
    },
    {
      "cell_type": "markdown",
      "metadata": {
        "id": "f__cvXl92la_"
      },
      "source": [
        "Agora vamos remover as colunas cujas variáveis são strings"
      ]
    },
    {
      "cell_type": "code",
      "metadata": {
        "colab": {
          "base_uri": "https://localhost:8080/"
        },
        "id": "Jtc8u-202kgL",
        "outputId": "32d501b5-665e-485d-cd51-bae41755c5c1"
      },
      "source": [
        "df_numerico.info()"
      ],
      "execution_count": 41,
      "outputs": [
        {
          "output_type": "stream",
          "name": "stdout",
          "text": [
            "<class 'pandas.core.frame.DataFrame'>\n",
            "Int64Index: 12093 entries, 2 to 19157\n",
            "Data columns (total 14 columns):\n",
            " #   Column                  Non-Null Count  Dtype  \n",
            "---  ------                  --------------  -----  \n",
            " 0   enrollee_id             12093 non-null  int64  \n",
            " 1   city                    12093 non-null  object \n",
            " 2   city_development_index  12093 non-null  float64\n",
            " 3   gender                  8990 non-null   float64\n",
            " 4   relevent_experience     12093 non-null  int64  \n",
            " 5   enrolled_university     12093 non-null  int64  \n",
            " 6   education_level         12093 non-null  int64  \n",
            " 7   major_discipline        12093 non-null  object \n",
            " 8   experience              12093 non-null  float32\n",
            " 9   company_size            7773 non-null   float64\n",
            " 10  company_type            12093 non-null  object \n",
            " 11  last_new_job            12093 non-null  float32\n",
            " 12  training_hours          12093 non-null  int64  \n",
            " 13  target                  12093 non-null  float64\n",
            "dtypes: float32(2), float64(4), int64(5), object(3)\n",
            "memory usage: 1.3+ MB\n"
          ]
        }
      ]
    },
    {
      "cell_type": "code",
      "metadata": {
        "id": "r71ApYT32zsU"
      },
      "source": [
        "df_numerico = df_numerico.drop(['city','major_discipline', 'company_type'], axis=1)"
      ],
      "execution_count": 42,
      "outputs": []
    },
    {
      "cell_type": "markdown",
      "metadata": {
        "id": "-h--OoXqmQvr"
      },
      "source": [
        "# Análise geral"
      ]
    },
    {
      "cell_type": "markdown",
      "metadata": {
        "id": "JUP9B7wwgscO"
      },
      "source": [
        "Após a limpeza dos dados, podemos iniciar a etapa de análise."
      ]
    },
    {
      "cell_type": "markdown",
      "metadata": {
        "id": "ykJjUZ76g1t0"
      },
      "source": [
        "A substituição dos dados categóricos pelos dados numéricos nos permite usar uma matriz de correlação para encontrar os valores que estão mais relacionados. O heatmap abaixo nos apresenta de forma visual essas correlações, dando destaque para a relação entre:\n",
        "\n",
        "\n",
        "*   relevent experience e last new job\n",
        "*   relevent experience e education level\n",
        "*   target e city develpoment\n",
        "*   target e enrolled university\n",
        "*   target e experience\n",
        "\n",
        "\n",
        "\n",
        "\n"
      ]
    },
    {
      "cell_type": "code",
      "metadata": {
        "colab": {
          "base_uri": "https://localhost:8080/",
          "height": 706
        },
        "id": "e1c43u5LmN6U",
        "outputId": "8ca3d688-f1d9-44e7-815c-821b95a09861"
      },
      "source": [
        "plt.figure(figsize=(10, 10)) \n",
        "sns.heatmap(df_numerico.corr(), cmap=\"flare\", vmin=-1, vmax=1, annot=True, fmt='.2g')\n",
        "plt.show()"
      ],
      "execution_count": 43,
      "outputs": [
        {
          "output_type": "display_data",
          "data": {
            "image/png": "[encoded data removed]",
            "text/plain": [
              "<Figure size 720x720 with 2 Axes>"
            ]
          },
          "metadata": {
            "needs_background": "light"
          }
        }
      ]
    },
    {
      "cell_type": "code",
      "metadata": {
        "colab": {
          "base_uri": "https://localhost:8080/",
          "height": 386
        },
        "id": "wyRmkfX5SH7H",
        "outputId": "3d186927-84b6-4349-b7d3-239ef87e10da"
      },
      "source": [
        "sns.catplot(x=\"last_new_job\", y=\"experience\", hue='relevent_experience', kind='box', data=df_numerico)"
      ],
      "execution_count": 44,
      "outputs": [
        {
          "output_type": "execute_result",
          "data": {
            "text/plain": [
              "<seaborn.axisgrid.FacetGrid at 0x7fe15766f590>"
            ]
          },
          "metadata": {},
          "execution_count": 44
        },
        {
          "output_type": "display_data",
          "data": {
            "image/png": "[encoded data removed]",
            "text/plain": [
              "<Figure size 469.625x360 with 1 Axes>"
            ]
          },
          "metadata": {
            "needs_background": "light"
          }
        }
      ]
    },
    {
      "cell_type": "markdown",
      "metadata": {
        "id": "9r0JwBuPR5i7"
      },
      "source": [
        "O gráfico acima nos mostra que as pessoas com uma maior experiência na profissão tende a ter tido um maior número de empregos no passado, assim como tendem a ter uma experiência relevante. Uma possível explicação para isso, um tanto intuitiva, seria a de que o maior tempo de experiência aumenta a chance de a pessoa ter passado por diferentes empregos e ter obtido uma experiência relevante. Afinal, um jovem na profissão tende a ter tido menos oportunidades em sua vida profissional do que um veterano."
      ]
    },
    {
      "cell_type": "code",
      "metadata": {
        "colab": {
          "base_uri": "https://localhost:8080/",
          "height": 297
        },
        "id": "qFkCrfY-itif",
        "outputId": "43bb8f54-7c69-49e1-a52c-ac672107a110"
      },
      "source": [
        "sns.violinplot(x=\"relevent_experience\", y=\"education_level\",\n",
        "                    data=df_numerico, palette=\"Set2\", split=True,\n",
        "                    scale=\"count\", inner=\"stick\")"
      ],
      "execution_count": 45,
      "outputs": [
        {
          "output_type": "execute_result",
          "data": {
            "text/plain": [
              "<matplotlib.axes._subplots.AxesSubplot at 0x7fe1558d4690>"
            ]
          },
          "metadata": {},
          "execution_count": 45
        },
        {
          "output_type": "display_data",
          "data": {
            "image/png": "[encoded data removed]",
            "text/plain": [
              "<Figure size 432x288 with 1 Axes>"
            ]
          },
          "metadata": {
            "needs_background": "light"
          }
        }
      ]
    },
    {
      "cell_type": "markdown",
      "metadata": {
        "id": "vywfN1iHTzIp"
      },
      "source": [
        "Esse gráfico nos mostra a existência de uma relação entre o nível de escolaridade e a experiência relevante. Ou seja, um candidato com mais estudo tende a ser valorizado pelos entrevistadores, que avaliam a educação como uma experiência relevante. Isso pode ser constatado pelo maior número de \"graduates\" e \"masters\" nos detentores de uma experiência relevante em comparação com os que não a possuem."
      ]
    },
    {
      "cell_type": "code",
      "metadata": {
        "colab": {
          "base_uri": "https://localhost:8080/",
          "height": 386
        },
        "id": "CctNFYe9jGrm",
        "outputId": "72c52323-76e6-4352-b694-6be238e2c385"
      },
      "source": [
        "sns.catplot(x=\"target\", y=\"city_development_index\", kind='box', data=df_numerico)"
      ],
      "execution_count": 46,
      "outputs": [
        {
          "output_type": "execute_result",
          "data": {
            "text/plain": [
              "<seaborn.axisgrid.FacetGrid at 0x7fe14b468110>"
            ]
          },
          "metadata": {},
          "execution_count": 46
        },
        {
          "output_type": "display_data",
          "data": {
            "image/png": "[encoded data removed]",
            "text/plain": [
              "<Figure size 360x360 with 1 Axes>"
            ]
          },
          "metadata": {
            "needs_background": "light"
          }
        }
      ]
    },
    {
      "cell_type": "markdown",
      "metadata": {
        "id": "lZSLtvNjU_HG"
      },
      "source": [
        "Este catplot nos fornece informações ainda mais interessantes. Aqui percebemos que o 'city development index' dos trabalhadores que desejam mudar de emprego tende a ser menor do que dos que desejam se manter em seus empregos. Uma possível interpretação dessa realidade pode estar relacionada ao fato de que o desejo de mudar emprego muitas vezes está acompanhado do desejo de mudar de cidade. Ou seja, a relação do trabalhador com seu emprego depende em grande medida da sua relação com a cidade em que ele trabalha: uma cidade pouco desenvolvida pode desagradar o trabalhador, levando-o a desejar uma mudança para uma região com melhores empregos."
      ]
    },
    {
      "cell_type": "code",
      "metadata": {
        "colab": {
          "base_uri": "https://localhost:8080/",
          "height": 300
        },
        "id": "PRJObFDFnlaO",
        "outputId": "acdf562a-eeda-42b3-87f4-0b6c5f014fc9"
      },
      "source": [
        "#enrolled university x target\n",
        "sns.violinplot(x=\"target\", y=\"enrolled_university\",\n",
        "                    data=df_numerico, palette=\"Set2\", split=True,\n",
        "                    scale=\"count\", inner=\"stick\")"
      ],
      "execution_count": 47,
      "outputs": [
        {
          "output_type": "execute_result",
          "data": {
            "text/plain": [
              "<matplotlib.axes._subplots.AxesSubplot at 0x7fe13f96f910>"
            ]
          },
          "metadata": {},
          "execution_count": 47
        },
        {
          "output_type": "display_data",
          "data": {
            "image/png": "[encoded data removed]",
            "text/plain": [
              "<Figure size 432x288 with 1 Axes>"
            ]
          },
          "metadata": {
            "needs_background": "light"
          }
        }
      ]
    },
    {
      "cell_type": "markdown",
      "metadata": {
        "id": "P_Pd8ZbYW88p"
      },
      "source": [
        "Este violinplot nos apresenta a distribuição dos trabalhadores que desejam ou não mudar de emprego nos cursos universitários. Uma informação valiosa forncida pelo gráfico é o fato de que, entre os empregados que desejam se manter em seus empregos atuais, existe uma maior concentração de trabalhadores não matriculados em nenhum curso. Uma explicação plausível seria a de que as pessoas fora das universidades já estão mais estabelecidas no mercado de trabalho, muitas vezes já tendo obtido o auge de suas carreiras. Por outro lado, os indivíduos matriculados nos cursos universitários costumam vislumbrar uma melhora em suas qualidades de vida e, portanto, almejam uma mudança de emprego."
      ]
    },
    {
      "cell_type": "code",
      "metadata": {
        "colab": {
          "base_uri": "https://localhost:8080/",
          "height": 386
        },
        "id": "HohSmPuBjdwb",
        "outputId": "abeb5fe9-8fb0-4656-c1f2-9937f465454a"
      },
      "source": [
        "sns.catplot(x=\"target\", y=\"experience\", kind='box', data=df_numerico)"
      ],
      "execution_count": 48,
      "outputs": [
        {
          "output_type": "execute_result",
          "data": {
            "text/plain": [
              "<seaborn.axisgrid.FacetGrid at 0x7fe14b457b90>"
            ]
          },
          "metadata": {},
          "execution_count": 48
        },
        {
          "output_type": "display_data",
          "data": {
            "image/png": "[encoded data removed]",
            "text/plain": [
              "<Figure size 360x360 with 1 Axes>"
            ]
          },
          "metadata": {
            "needs_background": "light"
          }
        }
      ]
    },
    {
      "cell_type": "markdown",
      "metadata": {
        "id": "n7oNs_fiYuyE"
      },
      "source": [
        "O gráfico acima demonstra uma tendência de os indivíduos que desejam se manter em seus empregos apresentarem uma maior experiência. Ou seja,o desejo pela mudança afeta predominantemente os trabalhadores em início de carreira. Podemos interpretar isso de duas formas.\n",
        "\n",
        "\n",
        "1.   Com o acúmulo de experiência na profissão, os indivíduos tendem atingir postos hierarquicamente superiores, obtendo maiores salários e mais qualidade de vida. Diante das melhores condições empregatícias, o desejo pela manutenção supera o desejo pela mudança.\n",
        "2.   O acúmulo de experiência está acompanhado pelo envelhecimento, de forma que os trabalhadores mais experientes costumam ter idades mais avançadas. Como se sabe, pessoas mais vezes, em comparação com a mais jovens, tendem almejar a pacatez em suas vidas, em detrimento da mudança constante. Assim, os indivíduos mais velhos e experientes costumam desejar manter-se em seus empregos atuais.\n",
        "\n",
        "\n",
        "\n",
        "\n",
        "\n"
      ]
    },
    {
      "cell_type": "markdown",
      "metadata": {
        "id": "17PmjstixqaM"
      },
      "source": [
        "# Modelos de predição"
      ]
    },
    {
      "cell_type": "markdown",
      "metadata": {
        "id": "rPAs4u9zAuS-"
      },
      "source": [
        "## Regressão logística"
      ]
    },
    {
      "cell_type": "markdown",
      "metadata": {
        "id": "GmXnja860q9Y"
      },
      "source": [
        "### Importar bibliotecas"
      ]
    },
    {
      "cell_type": "code",
      "metadata": {
        "id": "MoOv7gVx1Rtc"
      },
      "source": [
        "from sklearn.model_selection import train_test_split  # separação entre base de treino e de teste\n",
        "from sklearn.linear_model import LogisticRegression # segundo modelo que usaremos"
      ],
      "execution_count": 57,
      "outputs": []
    },
    {
      "cell_type": "markdown",
      "metadata": {
        "id": "dKJhkKaGzE-e"
      },
      "source": [
        "### Divisão do dataset em treino e teste"
      ]
    },
    {
      "cell_type": "code",
      "metadata": {
        "id": "1yRu7Ja_7jOn"
      },
      "source": [
        "# limpa de infinito e dados faltantes\n",
        "# https://stackoverflow.com/questions/31323499/sklearn-error-valueerror-input-contains-nan-infinity-or-a-value-too-large-for\n",
        "def clean_dataset(df_numerico):\n",
        "    assert isinstance(df_numerico, pd.DataFrame), \"df needs to be a pd.DataFrame\"\n",
        "    df_numerico.dropna(inplace=True)\n",
        "    indices_to_keep = ~df_numerico.isin([np.nan, np.inf, -np.inf]).any(1)\n",
        "    return df_numerico[indices_to_keep].astype(np.float64)\n",
        "\n",
        "df_regressao = clean_dataset(df_numerico)"
      ],
      "execution_count": 58,
      "outputs": []
    },
    {
      "cell_type": "code",
      "metadata": {
        "id": "ZPqfJMik00V4",
        "colab": {
          "base_uri": "https://localhost:8080/"
        },
        "outputId": "8061fb20-2ab5-4c38-ed2a-5516bc9714ce"
      },
      "source": [
        "X = df_regressao.drop('target', axis=1) # Cria uma cópia do dataset sem a target\n",
        "y = df_regressao['target']\n",
        "\n",
        "# Reservamos 20% dos dados para teste\n",
        "X_train, X_test, y_train, y_test = train_test_split(X, y, random_state=0,test_size=0.2)\n",
        "\n",
        "print(X_train.shape)\n",
        "print(X_test.shape)"
      ],
      "execution_count": 59,
      "outputs": [
        {
          "output_type": "stream",
          "name": "stdout",
          "text": [
            "(4747, 10)\n",
            "(1187, 10)\n"
          ]
        }
      ]
    },
    {
      "cell_type": "markdown",
      "metadata": {
        "id": "17ZnbROy19f-"
      },
      "source": [
        "### Treinar o modelo"
      ]
    },
    {
      "cell_type": "code",
      "metadata": {
        "colab": {
          "base_uri": "https://localhost:8080/"
        },
        "id": "LAbYmZ4x2BBF",
        "outputId": "1c89fdd7-92c6-43a6-9441-93204b2f165c"
      },
      "source": [
        "logreg = LogisticRegression()\n",
        "logreg.fit(X_train, y_train)"
      ],
      "execution_count": 60,
      "outputs": [
        {
          "output_type": "execute_result",
          "data": {
            "text/plain": [
              "LogisticRegression()"
            ]
          },
          "metadata": {},
          "execution_count": 60
        }
      ]
    },
    {
      "cell_type": "markdown",
      "metadata": {
        "id": "VNeZ_rxm8X5K"
      },
      "source": [
        "### Avaliar modelo"
      ]
    },
    {
      "cell_type": "code",
      "metadata": {
        "id": "Y3GaW7ucXv8M"
      },
      "source": [
        "from sklearn.metrics import accuracy_score\n",
        "from sklearn.metrics import confusion_matrix, plot_confusion_matrix, classification_report\n",
        "from sklearn.metrics import plot_confusion_matrix\n"
      ],
      "execution_count": 61,
      "outputs": []
    },
    {
      "cell_type": "code",
      "metadata": {
        "colab": {
          "base_uri": "https://localhost:8080/"
        },
        "id": "9iKSSQe3XJlC",
        "outputId": "bdba7126-4746-4f16-81a2-1592fc84efba"
      },
      "source": [
        "y_train_predict = logreg.predict(X_train)\n",
        "y_test_predict = logreg.predict(X_test)\n",
        "\n",
        "print(f'Acurácia no treino: {accuracy_score(y_train, y_train_predict)}')\n",
        "print(f'Acurácia no teste: {accuracy_score(y_test, y_test_predict)}')"
      ],
      "execution_count": 62,
      "outputs": [
        {
          "output_type": "stream",
          "name": "stdout",
          "text": [
            "Acurácia no treino: 0.8123025068464294\n",
            "Acurácia no teste: 0.8256107834877844\n"
          ]
        }
      ]
    },
    {
      "cell_type": "code",
      "metadata": {
        "colab": {
          "base_uri": "https://localhost:8080/",
          "height": 349
        },
        "id": "PTRwU3HhjVRP",
        "outputId": "e23ee6b2-1cd1-42ab-e7ca-1a51d63d5306"
      },
      "source": [
        "plot_confusion_matrix(logreg.fit(X_train, y_train), X_test, y_test, values_format='d')\n",
        "plt.title('Regressão logística')\n",
        "\n",
        "plt.show()"
      ],
      "execution_count": 76,
      "outputs": [
        {
          "output_type": "stream",
          "name": "stderr",
          "text": [
            "/usr/local/lib/python3.7/dist-packages/sklearn/utils/deprecation.py:87: FutureWarning: Function plot_confusion_matrix is deprecated; Function `plot_confusion_matrix` is deprecated in 1.0 and will be removed in 1.2. Use one of the class methods: ConfusionMatrixDisplay.from_predictions or ConfusionMatrixDisplay.from_estimator.\n",
            "  warnings.warn(msg, category=FutureWarning)\n"
          ]
        },
        {
          "output_type": "display_data",
          "data": {
            "image/png": "[encoded data removed]",
            "text/plain": [
              "<Figure size 432x288 with 2 Axes>"
            ]
          },
          "metadata": {
            "needs_background": "light"
          }
        }
      ]
    },
    {
      "cell_type": "code",
      "metadata": {
        "colab": {
          "base_uri": "https://localhost:8080/"
        },
        "id": "oQfaHDOursGl",
        "outputId": "9191e28e-0213-468c-f4d6-4ea895928637"
      },
      "source": [
        "modelo = logreg.fit(X_train, y_train)\n",
        "y_pred1 = modelo.predict(X_test)\n",
        "print('Modelo de regressão logística')\n",
        "print(classification_report(y_test, y_pred1))"
      ],
      "execution_count": 77,
      "outputs": [
        {
          "output_type": "stream",
          "name": "stdout",
          "text": [
            "Modelo de regressão logística\n",
            "              precision    recall  f1-score   support\n",
            "\n",
            "         0.0       0.85      0.97      0.91       980\n",
            "         1.0       0.58      0.21      0.31       207\n",
            "\n",
            "    accuracy                           0.84      1187\n",
            "   macro avg       0.72      0.59      0.61      1187\n",
            "weighted avg       0.81      0.84      0.80      1187\n",
            "\n"
          ]
        }
      ]
    },
    {
      "cell_type": "markdown",
      "metadata": {
        "id": "xxkvLCqauYNC"
      },
      "source": [
        "Embora a acurácia do modelo tenha sido de aproximadamente 82,5% no treino, as demias métricas nos mostram que o modelo não tão bom assim para aquilo que ele foi desenhado. O valor da precisão e do recall deixaram bastante a desejar na predição do desejo de se mudar de emprego: a precisão de 0.58 para o 1.0 inidca que apenas 58% dos classificado como interessados em um novo emprego de fato o estão procurando. Além disso, o recall de 0.21 nos diz que apenas 21% dos interessados em um novo emprego foram classificados como tal.\n",
        "Em suma, a acurácia do modelo não é suficiente para avaliar o seu propósito final de prever quem está interessado em um novo emprego.\n",
        "Um dos motivos de a acurácia nos ter 'enganado' decorre do fato de que o nosso modelo classificou a maioria dos indivuos como '0' e, de fato, a maioria dos indivíduos não está procurando um novo emprego. Contudo, a alta capacidade de o modelo prever quem não está procurando um novo emprego não traduz uma alta capacidade de predição de quem está procurando um emprego."
      ]
    },
    {
      "cell_type": "markdown",
      "metadata": {
        "id": "qXT4iuqHA5Jp"
      },
      "source": [
        "## KNN"
      ]
    },
    {
      "cell_type": "markdown",
      "metadata": {
        "id": "zv33ju7B9x5X"
      },
      "source": [
        "### Importar biblioteca\n"
      ]
    },
    {
      "cell_type": "code",
      "metadata": {
        "id": "RjR5A255DyCJ"
      },
      "source": [
        "# Modelo de classificação\n",
        "from sklearn.neighbors import KNeighborsClassifier\n",
        "\n",
        "# Treinamento e teste\n",
        "from sklearn.model_selection import train_test_split\n",
        "from sklearn.metrics import accuracy_score"
      ],
      "execution_count": 65,
      "outputs": []
    },
    {
      "cell_type": "markdown",
      "metadata": {
        "id": "9UERZLcw9vPI"
      },
      "source": [
        "### Divisão do dataset em treino e teste"
      ]
    },
    {
      "cell_type": "code",
      "metadata": {
        "id": "-oEVK7EJ-KQ-"
      },
      "source": [
        "# cria novo dataframe apenas com colunas desejadas\n",
        "df_KNN = df_numerico[['city_development_index', 'enrolled_university', 'experience', 'target']].copy()\n"
      ],
      "execution_count": 66,
      "outputs": []
    },
    {
      "cell_type": "code",
      "metadata": {
        "colab": {
          "base_uri": "https://localhost:8080/",
          "height": 206
        },
        "id": "G9nICCUFA84M",
        "outputId": "c574aa94-f506-492e-e321-69321664175b"
      },
      "source": [
        "df_KNN.head()"
      ],
      "execution_count": 67,
      "outputs": [
        {
          "output_type": "execute_result",
          "data": {
            "text/html": [
              "<div>\n",
              "<style scoped>\n",
              "    .dataframe tbody tr th:only-of-type {\n",
              "        vertical-align: middle;\n",
              "    }\n",
              "\n",
              "    .dataframe tbody tr th {\n",
              "        vertical-align: top;\n",
              "    }\n",
              "\n",
              "    .dataframe thead th {\n",
              "        text-align: right;\n",
              "    }\n",
              "</style>\n",
              "<table border=\"1\" class=\"dataframe\">\n",
              "  <thead>\n",
              "    <tr style=\"text-align: right;\">\n",
              "      <th></th>\n",
              "      <th>city_development_index</th>\n",
              "      <th>enrolled_university</th>\n",
              "      <th>experience</th>\n",
              "      <th>target</th>\n",
              "    </tr>\n",
              "  </thead>\n",
              "  <tbody>\n",
              "    <tr>\n",
              "      <th>6</th>\n",
              "      <td>0.920</td>\n",
              "      <td>0</td>\n",
              "      <td>5.0</td>\n",
              "      <td>0.0</td>\n",
              "    </tr>\n",
              "    <tr>\n",
              "      <th>8</th>\n",
              "      <td>0.920</td>\n",
              "      <td>0</td>\n",
              "      <td>7.0</td>\n",
              "      <td>1.0</td>\n",
              "    </tr>\n",
              "    <tr>\n",
              "      <th>11</th>\n",
              "      <td>0.920</td>\n",
              "      <td>0</td>\n",
              "      <td>5.0</td>\n",
              "      <td>0.0</td>\n",
              "    </tr>\n",
              "    <tr>\n",
              "      <th>20</th>\n",
              "      <td>0.843</td>\n",
              "      <td>0</td>\n",
              "      <td>11.0</td>\n",
              "      <td>0.0</td>\n",
              "    </tr>\n",
              "    <tr>\n",
              "      <th>21</th>\n",
              "      <td>0.926</td>\n",
              "      <td>0</td>\n",
              "      <td>11.0</td>\n",
              "      <td>0.0</td>\n",
              "    </tr>\n",
              "  </tbody>\n",
              "</table>\n",
              "</div>"
            ],
            "text/plain": [
              "    city_development_index  enrolled_university  experience  target\n",
              "6                    0.920                    0         5.0     0.0\n",
              "8                    0.920                    0         7.0     1.0\n",
              "11                   0.920                    0         5.0     0.0\n",
              "20                   0.843                    0        11.0     0.0\n",
              "21                   0.926                    0        11.0     0.0"
            ]
          },
          "metadata": {},
          "execution_count": 67
        }
      ]
    },
    {
      "cell_type": "code",
      "metadata": {
        "id": "h2o7ci7-9vPJ"
      },
      "source": [
        "# limpa de infinito e dados faltantes\n",
        "# https://stackoverflow.com/questions/31323499/sklearn-error-valueerror-input-contains-nan-infinity-or-a-value-too-large-for\n",
        "def clean_dataset(df_numerico):\n",
        "    assert isinstance(df_numerico, pd.DataFrame), \"df needs to be a pd.DataFrame\"\n",
        "    df_numerico.dropna(inplace=True)\n",
        "    indices_to_keep = ~df_numerico.isin([np.nan, np.inf, -np.inf]).any(1)\n",
        "    return df_numerico[indices_to_keep].astype(np.float64)\n",
        "\n",
        "df_KNN = clean_dataset(df_KNN)"
      ],
      "execution_count": 68,
      "outputs": []
    },
    {
      "cell_type": "code",
      "metadata": {
        "id": "b0cAgx3F9vPJ"
      },
      "source": [
        "X = df_KNN.drop('target', axis=1) # Cria uma cópia do dataset sem a target\n",
        "y = df_KNN['target']\n",
        "\n",
        "# Reservamos 20% dos dados para teste\n",
        "X_train, X_test, y_train, y_test = train_test_split(X, y, random_state=0,test_size=0.2)"
      ],
      "execution_count": 69,
      "outputs": []
    },
    {
      "cell_type": "markdown",
      "metadata": {
        "id": "fR5YoQ-E96IV"
      },
      "source": [
        "### Treinamento do modelo"
      ]
    },
    {
      "cell_type": "code",
      "metadata": {
        "id": "YstmB6b5DtwF",
        "colab": {
          "base_uri": "https://localhost:8080/"
        },
        "outputId": "1039feba-5375-4297-8db2-986fc74d67e5"
      },
      "source": [
        "your_K = 9\n",
        "model = KNeighborsClassifier(n_neighbors = your_K)\n",
        "model.fit(X_train, y_train)\n",
        "y_predict = model.predict(X_test)\n",
        "print(y_predict)"
      ],
      "execution_count": 83,
      "outputs": [
        {
          "output_type": "stream",
          "name": "stdout",
          "text": [
            "[0. 0. 1. ... 0. 0. 0.]\n"
          ]
        }
      ]
    },
    {
      "cell_type": "markdown",
      "metadata": {
        "id": "PjV8lsSJGb2o"
      },
      "source": [
        "### Em busca do K otimo"
      ]
    },
    {
      "cell_type": "code",
      "metadata": {
        "id": "sTmx4X2-G6Nu"
      },
      "source": [
        "k_range = range(1, 300)\n",
        "scores = {}\n",
        "scores_list = []\n",
        "for k in k_range:\n",
        "  model = KNeighborsClassifier(n_neighbors = k)\n",
        "  model.fit(X_train, y_train)\n",
        "  y_predict = model.predict(X_test)\n",
        "  scores[k] = accuracy_score(y_test, y_predict)\n",
        "  scores_list.append(accuracy_score(y_test, y_predict))"
      ],
      "execution_count": 71,
      "outputs": []
    },
    {
      "cell_type": "code",
      "metadata": {
        "colab": {
          "base_uri": "https://localhost:8080/",
          "height": 282
        },
        "id": "uwGIg3qHGkXU",
        "outputId": "6104b7ae-77d3-4099-8bdb-c1febb7b3bb6"
      },
      "source": [
        "plt.figure\n",
        "plt.plot(k_range, scores_list)"
      ],
      "execution_count": 72,
      "outputs": [
        {
          "output_type": "execute_result",
          "data": {
            "text/plain": [
              "[<matplotlib.lines.Line2D at 0x7fe131faa190>]"
            ]
          },
          "metadata": {},
          "execution_count": 72
        },
        {
          "output_type": "display_data",
          "data": {
            "image/png": "[encoded data removed]",
            "text/plain": [
              "<Figure size 432x288 with 1 Axes>"
            ]
          },
          "metadata": {
            "needs_background": "light"
          }
        }
      ]
    },
    {
      "cell_type": "markdown",
      "metadata": {
        "id": "aLvZCm4gw8M6"
      },
      "source": [
        "### Avaliação do modelo\n"
      ]
    },
    {
      "cell_type": "code",
      "metadata": {
        "colab": {
          "base_uri": "https://localhost:8080/"
        },
        "id": "fdRzqcPXGXPX",
        "outputId": "d1445173-a57d-4bbc-80fd-4f0dc75d62fb"
      },
      "source": [
        "print(accuracy_score(y_test, y_predict))"
      ],
      "execution_count": 80,
      "outputs": [
        {
          "output_type": "stream",
          "name": "stdout",
          "text": [
            "0.8256107834877844\n"
          ]
        }
      ]
    },
    {
      "cell_type": "code",
      "metadata": {
        "colab": {
          "base_uri": "https://localhost:8080/",
          "height": 349
        },
        "id": "ho6sZm9_xAGC",
        "outputId": "d44a9032-7ee0-494f-daa5-e791bb9e1448"
      },
      "source": [
        "plot_confusion_matrix(model.fit(X_train, y_train), X_test, y_test, values_format='d')\n",
        "plt.title('SVM')\n",
        "\n",
        "plt.show()"
      ],
      "execution_count": 84,
      "outputs": [
        {
          "output_type": "stream",
          "name": "stderr",
          "text": [
            "/usr/local/lib/python3.7/dist-packages/sklearn/utils/deprecation.py:87: FutureWarning: Function plot_confusion_matrix is deprecated; Function `plot_confusion_matrix` is deprecated in 1.0 and will be removed in 1.2. Use one of the class methods: ConfusionMatrixDisplay.from_predictions or ConfusionMatrixDisplay.from_estimator.\n",
            "  warnings.warn(msg, category=FutureWarning)\n"
          ]
        },
        {
          "output_type": "display_data",
          "data": {
            "image/png": "[encoded data removed]",
            "text/plain": [
              "<Figure size 432x288 with 2 Axes>"
            ]
          },
          "metadata": {
            "needs_background": "light"
          }
        }
      ]
    },
    {
      "cell_type": "code",
      "metadata": {
        "colab": {
          "base_uri": "https://localhost:8080/"
        },
        "id": "J_Zwce_Ux5_-",
        "outputId": "b1479f61-391b-4ea4-d86c-d5fbedd02563"
      },
      "source": [
        "modelo = model.fit(X_train, y_train)\n",
        "y_pred1 = modelo.predict(X_test)\n",
        "print('SVM')\n",
        "print(classification_report(y_test, y_pred1))"
      ],
      "execution_count": 85,
      "outputs": [
        {
          "output_type": "stream",
          "name": "stdout",
          "text": [
            "SVM\n",
            "              precision    recall  f1-score   support\n",
            "\n",
            "         0.0       0.89      0.93      0.91       980\n",
            "         1.0       0.56      0.44      0.50       207\n",
            "\n",
            "    accuracy                           0.84      1187\n",
            "   macro avg       0.72      0.69      0.70      1187\n",
            "weighted avg       0.83      0.84      0.84      1187\n",
            "\n"
          ]
        }
      ]
    },
    {
      "cell_type": "markdown",
      "metadata": {
        "id": "ZcjqGBZ8ynbK"
      },
      "source": [
        "Embora o modelo SVM tenha apresentado valores maiores de precisão e de recall, eles ainda são consideravelmente baixos: apenas 56% dos classificados como desejantes de um novo emprego de fato estão a procura de um novo local para trabalhar e apenas 44% dos que estão procurando um novo emprego foram classificados como tal."
      ]
    }
  ]
}